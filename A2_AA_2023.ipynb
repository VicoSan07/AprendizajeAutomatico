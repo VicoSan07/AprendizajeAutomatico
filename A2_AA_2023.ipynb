{
  "cells": [
    {
      "cell_type": "markdown",
      "metadata": {
        "id": "view-in-github",
        "colab_type": "text"
      },
      "source": [
        "<a href=\"https://colab.research.google.com/github/VicoSan07/AprendizajeAutomatico/blob/main/A2_AA_2023.ipynb\" target=\"_parent\"><img src=\"https://colab.research.google.com/assets/colab-badge.svg\" alt=\"Open In Colab\"/></a>"
      ]
    },
    {
      "cell_type": "markdown",
      "source": [
        "# **Actividad 02 - Carga de dataset en Python**\n",
        "\n",
        "[Victor Sanchez](https://github.com/VicoSan07) <br>\n",
        "Dataset: [Wine Quality](https://archive.ics.uci.edu/ml/datasets/wine+quality)  "
      ],
      "metadata": {
        "id": "e9h2qdboxFI7"
      }
    },
    {
      "cell_type": "markdown",
      "source": [
        "Para poder trabajar con el dataset seleccionado, será necesaria su carga. En las siguientes lineas se describe el proceso de carga de datos con *Pyhton*."
      ],
      "metadata": {
        "id": "aLMnIaA7xy4J"
      }
    },
    {
      "cell_type": "code",
      "source": [
        "#Para cargar el dataset a Google Colab\n",
        "from google.colab import files\n",
        "files.upload()"
      ],
      "metadata": {
        "id": "uRh415DY4Rix"
      },
      "execution_count": null,
      "outputs": []
    },
    {
      "cell_type": "code",
      "source": [
        "#Pandas es una librería especializada en el manejo y análisis de datos\n",
        "import pandas as pd\n",
        "\n",
        "#Carga de dataset 'vino rojo' \n",
        "dfwiner = pd.read_csv(r'winequality-red.csv',sep=';')\n",
        "\n",
        "#Carga de dataset 'vino blanco' \n",
        "dfwinew = pd.read_csv(r'winequality-white.csv',sep=';')"
      ],
      "metadata": {
        "id": "j5ucoXVczPay"
      },
      "execution_count": 18,
      "outputs": []
    },
    {
      "cell_type": "code",
      "source": [
        "# Visualización de dataset red wine\n",
        "print('El dataset correspondiente a vinos rojos es el siguiente \\n')\n",
        "print(dfwiner)"
      ],
      "metadata": {
        "id": "jRITlwif5EJn",
        "outputId": "cdde8147-e4b3-4918-d58f-bd0ea206d331",
        "colab": {
          "base_uri": "https://localhost:8080/"
        }
      },
      "execution_count": 25,
      "outputs": [
        {
          "output_type": "stream",
          "name": "stdout",
          "text": [
            "El dataset correspondiente a vinos rojos es el siguiente \n",
            "\n",
            "      fixed acidity  volatile acidity  citric acid  residual sugar  chlorides  \\\n",
            "0               7.4             0.700         0.00             1.9      0.076   \n",
            "1               7.8             0.880         0.00             2.6      0.098   \n",
            "2               7.8             0.760         0.04             2.3      0.092   \n",
            "3              11.2             0.280         0.56             1.9      0.075   \n",
            "4               7.4             0.700         0.00             1.9      0.076   \n",
            "...             ...               ...          ...             ...        ...   \n",
            "1594            6.2             0.600         0.08             2.0      0.090   \n",
            "1595            5.9             0.550         0.10             2.2      0.062   \n",
            "1596            6.3             0.510         0.13             2.3      0.076   \n",
            "1597            5.9             0.645         0.12             2.0      0.075   \n",
            "1598            6.0             0.310         0.47             3.6      0.067   \n",
            "\n",
            "      free sulfur dioxide  total sulfur dioxide  density    pH  sulphates  \\\n",
            "0                    11.0                  34.0  0.99780  3.51       0.56   \n",
            "1                    25.0                  67.0  0.99680  3.20       0.68   \n",
            "2                    15.0                  54.0  0.99700  3.26       0.65   \n",
            "3                    17.0                  60.0  0.99800  3.16       0.58   \n",
            "4                    11.0                  34.0  0.99780  3.51       0.56   \n",
            "...                   ...                   ...      ...   ...        ...   \n",
            "1594                 32.0                  44.0  0.99490  3.45       0.58   \n",
            "1595                 39.0                  51.0  0.99512  3.52       0.76   \n",
            "1596                 29.0                  40.0  0.99574  3.42       0.75   \n",
            "1597                 32.0                  44.0  0.99547  3.57       0.71   \n",
            "1598                 18.0                  42.0  0.99549  3.39       0.66   \n",
            "\n",
            "      alcohol  quality  \n",
            "0         9.4        5  \n",
            "1         9.8        5  \n",
            "2         9.8        5  \n",
            "3         9.8        6  \n",
            "4         9.4        5  \n",
            "...       ...      ...  \n",
            "1594     10.5        5  \n",
            "1595     11.2        6  \n",
            "1596     11.0        6  \n",
            "1597     10.2        5  \n",
            "1598     11.0        6  \n",
            "\n",
            "[1599 rows x 12 columns]\n"
          ]
        }
      ]
    },
    {
      "cell_type": "code",
      "source": [
        "#Visualización de dataset white whine\n",
        "\n",
        "print('El dataset correspondiente a vinos blancos es el siguiente \\n', dfwinew)\n",
        "print(dfwinew)"
      ],
      "metadata": {
        "id": "ujNFS8BT6893"
      },
      "execution_count": null,
      "outputs": []
    },
    {
      "cell_type": "markdown",
      "source": [
        "### **Tipo de datos**\n",
        "\n",
        "Como acabamos de observar, ambos datasets contienen la misma cantidad y tipo de variables, las cuales son:\n",
        "\n",
        "1. *Fixed acidity*: flotante\n",
        "2. *volatile acidity*: flotante\n",
        "3. *citric acid*: flotante\n",
        "4. *residual sugar*: flotante\n",
        "5. *chlorides*: flotante\n",
        "6. *free sulfur dioxide*: flotante\n",
        "7. *total sulfur dioxide*: flotante\n",
        "8. *density*: flotante\n",
        "9. *pH*: flotante\n",
        "10. *sulphates*: flotante\n",
        "11. *alcohol*: flotante\n",
        "12. *quality*: entero\n"
      ],
      "metadata": {
        "id": "4OszwN457HUR"
      }
    },
    {
      "cell_type": "markdown",
      "source": [
        "### **Bonus**\n",
        "\n",
        "Aunque no es necesario asignar una columna como indice, el proceso para realizar dicha acción es el siguiente:"
      ],
      "metadata": {
        "id": "mLpI712c-0yi"
      }
    },
    {
      "cell_type": "code",
      "source": [
        "# Fijaremos como indice la columna 'quality'\n",
        "dfwiner2 = dfwiner.set_index('quality')\n",
        "\n",
        "print('Dataset actualizado \\n', dfwiner2)"
      ],
      "metadata": {
        "id": "bigNemmv_Z5u",
        "outputId": "f8aa31bd-cff5-452f-8c48-96506ddd62ad",
        "colab": {
          "base_uri": "https://localhost:8080/"
        }
      },
      "execution_count": 27,
      "outputs": [
        {
          "output_type": "stream",
          "name": "stdout",
          "text": [
            "Dataset actualizado \n",
            "          fixed acidity  volatile acidity  citric acid  residual sugar  \\\n",
            "quality                                                                 \n",
            "5                  7.4             0.700         0.00             1.9   \n",
            "5                  7.8             0.880         0.00             2.6   \n",
            "5                  7.8             0.760         0.04             2.3   \n",
            "6                 11.2             0.280         0.56             1.9   \n",
            "5                  7.4             0.700         0.00             1.9   \n",
            "...                ...               ...          ...             ...   \n",
            "5                  6.2             0.600         0.08             2.0   \n",
            "6                  5.9             0.550         0.10             2.2   \n",
            "6                  6.3             0.510         0.13             2.3   \n",
            "5                  5.9             0.645         0.12             2.0   \n",
            "6                  6.0             0.310         0.47             3.6   \n",
            "\n",
            "         chlorides  free sulfur dioxide  total sulfur dioxide  density    pH  \\\n",
            "quality                                                                        \n",
            "5            0.076                 11.0                  34.0  0.99780  3.51   \n",
            "5            0.098                 25.0                  67.0  0.99680  3.20   \n",
            "5            0.092                 15.0                  54.0  0.99700  3.26   \n",
            "6            0.075                 17.0                  60.0  0.99800  3.16   \n",
            "5            0.076                 11.0                  34.0  0.99780  3.51   \n",
            "...            ...                  ...                   ...      ...   ...   \n",
            "5            0.090                 32.0                  44.0  0.99490  3.45   \n",
            "6            0.062                 39.0                  51.0  0.99512  3.52   \n",
            "6            0.076                 29.0                  40.0  0.99574  3.42   \n",
            "5            0.075                 32.0                  44.0  0.99547  3.57   \n",
            "6            0.067                 18.0                  42.0  0.99549  3.39   \n",
            "\n",
            "         sulphates  alcohol  \n",
            "quality                      \n",
            "5             0.56      9.4  \n",
            "5             0.68      9.8  \n",
            "5             0.65      9.8  \n",
            "6             0.58      9.8  \n",
            "5             0.56      9.4  \n",
            "...            ...      ...  \n",
            "5             0.58     10.5  \n",
            "6             0.76     11.2  \n",
            "6             0.75     11.0  \n",
            "5             0.71     10.2  \n",
            "6             0.66     11.0  \n",
            "\n",
            "[1599 rows x 11 columns]\n"
          ]
        }
      ]
    }
  ],
  "metadata": {
    "colab": {
      "name": "Welcome To Colaboratory",
      "toc_visible": true,
      "provenance": [],
      "include_colab_link": true
    },
    "kernelspec": {
      "display_name": "Python 3",
      "name": "python3"
    }
  },
  "nbformat": 4,
  "nbformat_minor": 0
}