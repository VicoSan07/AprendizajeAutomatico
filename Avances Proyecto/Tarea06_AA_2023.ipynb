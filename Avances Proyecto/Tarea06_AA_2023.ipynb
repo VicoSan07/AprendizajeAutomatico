{
 "cells": [
  {
   "attachments": {},
   "cell_type": "markdown",
   "metadata": {},
   "source": [
    "# **Algoritmos Supervisados**\n",
    "\n",
    "[Victor Sanchez](https://github.com/VicoSan07) <br>\n",
    "Dataset: [Wine Quality](https://archive.ics.uci.edu/ml/datasets/wine+quality) "
   ]
  },
  {
   "attachments": {},
   "cell_type": "markdown",
   "metadata": {},
   "source": [
    "### **Objetivo**\n",
    "\n",
    "Utilizar y analizar los resultados obtenidos a tráves de distintos algoritmos supervisados con el fin de predecir una variable de interés a partir de un conjunto de variables explicativas."
   ]
  },
  {
   "attachments": {},
   "cell_type": "markdown",
   "metadata": {},
   "source": [
    "### **Carga de Dataset**"
   ]
  },
  {
   "cell_type": "code",
   "execution_count": 74,
   "metadata": {},
   "outputs": [
    {
     "data": {
      "text/html": [
       "<div>\n",
       "<style scoped>\n",
       "    .dataframe tbody tr th:only-of-type {\n",
       "        vertical-align: middle;\n",
       "    }\n",
       "\n",
       "    .dataframe tbody tr th {\n",
       "        vertical-align: top;\n",
       "    }\n",
       "\n",
       "    .dataframe thead th {\n",
       "        text-align: right;\n",
       "    }\n",
       "</style>\n",
       "<table border=\"1\" class=\"dataframe\">\n",
       "  <thead>\n",
       "    <tr style=\"text-align: right;\">\n",
       "      <th></th>\n",
       "      <th>FA</th>\n",
       "      <th>VA</th>\n",
       "      <th>CA</th>\n",
       "      <th>RS</th>\n",
       "      <th>CH</th>\n",
       "      <th>FSD</th>\n",
       "      <th>TSD</th>\n",
       "      <th>DE</th>\n",
       "      <th>PH</th>\n",
       "      <th>SU</th>\n",
       "      <th>AL</th>\n",
       "      <th>QU</th>\n",
       "    </tr>\n",
       "  </thead>\n",
       "  <tbody>\n",
       "    <tr>\n",
       "      <th>0</th>\n",
       "      <td>7.4</td>\n",
       "      <td>0.70</td>\n",
       "      <td>0.00</td>\n",
       "      <td>1.9</td>\n",
       "      <td>0.076</td>\n",
       "      <td>11.0</td>\n",
       "      <td>34.0</td>\n",
       "      <td>0.99780</td>\n",
       "      <td>3.51</td>\n",
       "      <td>0.56</td>\n",
       "      <td>9.4</td>\n",
       "      <td>5</td>\n",
       "    </tr>\n",
       "    <tr>\n",
       "      <th>1</th>\n",
       "      <td>7.8</td>\n",
       "      <td>0.88</td>\n",
       "      <td>0.00</td>\n",
       "      <td>2.6</td>\n",
       "      <td>0.098</td>\n",
       "      <td>25.0</td>\n",
       "      <td>67.0</td>\n",
       "      <td>0.99680</td>\n",
       "      <td>3.20</td>\n",
       "      <td>0.68</td>\n",
       "      <td>9.8</td>\n",
       "      <td>5</td>\n",
       "    </tr>\n",
       "    <tr>\n",
       "      <th>2</th>\n",
       "      <td>7.8</td>\n",
       "      <td>0.76</td>\n",
       "      <td>0.04</td>\n",
       "      <td>2.3</td>\n",
       "      <td>0.092</td>\n",
       "      <td>15.0</td>\n",
       "      <td>54.0</td>\n",
       "      <td>0.99700</td>\n",
       "      <td>3.26</td>\n",
       "      <td>0.65</td>\n",
       "      <td>9.8</td>\n",
       "      <td>5</td>\n",
       "    </tr>\n",
       "    <tr>\n",
       "      <th>3</th>\n",
       "      <td>11.2</td>\n",
       "      <td>0.28</td>\n",
       "      <td>0.56</td>\n",
       "      <td>1.9</td>\n",
       "      <td>0.075</td>\n",
       "      <td>17.0</td>\n",
       "      <td>60.0</td>\n",
       "      <td>0.99800</td>\n",
       "      <td>3.16</td>\n",
       "      <td>0.58</td>\n",
       "      <td>9.8</td>\n",
       "      <td>6</td>\n",
       "    </tr>\n",
       "    <tr>\n",
       "      <th>4</th>\n",
       "      <td>7.4</td>\n",
       "      <td>0.70</td>\n",
       "      <td>0.00</td>\n",
       "      <td>1.9</td>\n",
       "      <td>0.076</td>\n",
       "      <td>11.0</td>\n",
       "      <td>34.0</td>\n",
       "      <td>0.99780</td>\n",
       "      <td>3.51</td>\n",
       "      <td>0.56</td>\n",
       "      <td>9.4</td>\n",
       "      <td>5</td>\n",
       "    </tr>\n",
       "    <tr>\n",
       "      <th>...</th>\n",
       "      <td>...</td>\n",
       "      <td>...</td>\n",
       "      <td>...</td>\n",
       "      <td>...</td>\n",
       "      <td>...</td>\n",
       "      <td>...</td>\n",
       "      <td>...</td>\n",
       "      <td>...</td>\n",
       "      <td>...</td>\n",
       "      <td>...</td>\n",
       "      <td>...</td>\n",
       "      <td>...</td>\n",
       "    </tr>\n",
       "    <tr>\n",
       "      <th>6492</th>\n",
       "      <td>6.2</td>\n",
       "      <td>0.21</td>\n",
       "      <td>0.29</td>\n",
       "      <td>1.6</td>\n",
       "      <td>0.039</td>\n",
       "      <td>24.0</td>\n",
       "      <td>92.0</td>\n",
       "      <td>0.99114</td>\n",
       "      <td>3.27</td>\n",
       "      <td>0.50</td>\n",
       "      <td>11.2</td>\n",
       "      <td>6</td>\n",
       "    </tr>\n",
       "    <tr>\n",
       "      <th>6493</th>\n",
       "      <td>6.6</td>\n",
       "      <td>0.32</td>\n",
       "      <td>0.36</td>\n",
       "      <td>8.0</td>\n",
       "      <td>0.047</td>\n",
       "      <td>57.0</td>\n",
       "      <td>168.0</td>\n",
       "      <td>0.99490</td>\n",
       "      <td>3.15</td>\n",
       "      <td>0.46</td>\n",
       "      <td>9.6</td>\n",
       "      <td>5</td>\n",
       "    </tr>\n",
       "    <tr>\n",
       "      <th>6494</th>\n",
       "      <td>6.5</td>\n",
       "      <td>0.24</td>\n",
       "      <td>0.19</td>\n",
       "      <td>1.2</td>\n",
       "      <td>0.041</td>\n",
       "      <td>30.0</td>\n",
       "      <td>111.0</td>\n",
       "      <td>0.99254</td>\n",
       "      <td>2.99</td>\n",
       "      <td>0.46</td>\n",
       "      <td>9.4</td>\n",
       "      <td>6</td>\n",
       "    </tr>\n",
       "    <tr>\n",
       "      <th>6495</th>\n",
       "      <td>5.5</td>\n",
       "      <td>0.29</td>\n",
       "      <td>0.30</td>\n",
       "      <td>1.1</td>\n",
       "      <td>0.022</td>\n",
       "      <td>20.0</td>\n",
       "      <td>110.0</td>\n",
       "      <td>0.98869</td>\n",
       "      <td>3.34</td>\n",
       "      <td>0.38</td>\n",
       "      <td>12.8</td>\n",
       "      <td>7</td>\n",
       "    </tr>\n",
       "    <tr>\n",
       "      <th>6496</th>\n",
       "      <td>6.0</td>\n",
       "      <td>0.21</td>\n",
       "      <td>0.38</td>\n",
       "      <td>0.8</td>\n",
       "      <td>0.020</td>\n",
       "      <td>22.0</td>\n",
       "      <td>98.0</td>\n",
       "      <td>0.98941</td>\n",
       "      <td>3.26</td>\n",
       "      <td>0.32</td>\n",
       "      <td>11.8</td>\n",
       "      <td>6</td>\n",
       "    </tr>\n",
       "  </tbody>\n",
       "</table>\n",
       "<p>6497 rows × 12 columns</p>\n",
       "</div>"
      ],
      "text/plain": [
       "        FA    VA    CA   RS     CH   FSD    TSD       DE    PH    SU    AL  QU\n",
       "0      7.4  0.70  0.00  1.9  0.076  11.0   34.0  0.99780  3.51  0.56   9.4   5\n",
       "1      7.8  0.88  0.00  2.6  0.098  25.0   67.0  0.99680  3.20  0.68   9.8   5\n",
       "2      7.8  0.76  0.04  2.3  0.092  15.0   54.0  0.99700  3.26  0.65   9.8   5\n",
       "3     11.2  0.28  0.56  1.9  0.075  17.0   60.0  0.99800  3.16  0.58   9.8   6\n",
       "4      7.4  0.70  0.00  1.9  0.076  11.0   34.0  0.99780  3.51  0.56   9.4   5\n",
       "...    ...   ...   ...  ...    ...   ...    ...      ...   ...   ...   ...  ..\n",
       "6492   6.2  0.21  0.29  1.6  0.039  24.0   92.0  0.99114  3.27  0.50  11.2   6\n",
       "6493   6.6  0.32  0.36  8.0  0.047  57.0  168.0  0.99490  3.15  0.46   9.6   5\n",
       "6494   6.5  0.24  0.19  1.2  0.041  30.0  111.0  0.99254  2.99  0.46   9.4   6\n",
       "6495   5.5  0.29  0.30  1.1  0.022  20.0  110.0  0.98869  3.34  0.38  12.8   7\n",
       "6496   6.0  0.21  0.38  0.8  0.020  22.0   98.0  0.98941  3.26  0.32  11.8   6\n",
       "\n",
       "[6497 rows x 12 columns]"
      ]
     },
     "execution_count": 74,
     "metadata": {},
     "output_type": "execute_result"
    }
   ],
   "source": [
    "import pandas as pd\n",
    "\n",
    "#Carga de dataset 'vino rojo' \n",
    "dfwiner = pd.read_csv(r'C:/Users/vicos/Documents/winequality-red.csv',delimiter=\";\",\n",
    "                      #Tipo de datos en cada columna\n",
    "                      dtype={\n",
    "                          'fixed acidity': float,\n",
    "                          'volatile acidity': float,\n",
    "                          'citric acid': float,\n",
    "                          'residual sugar': float,\n",
    "                          'chlorides': float,\n",
    "                          'free sulfur dioxide': float,\n",
    "                          'total sulfur dioxide': float,\n",
    "                          'density': float,\n",
    "                          'pH': float,\n",
    "                          'sulphates': float,\n",
    "                          'alcohol': float,\n",
    "                          'quality': int,\n",
    "                      })\n",
    "\n",
    "#Carga de dataset 'vino blanco' \n",
    "dfwinew = pd.read_csv(r'C:/Users/vicos/Documents/winequality-white.csv',delimiter=\";\",\n",
    "                      #Tipo de datos en cada columna\n",
    "                      dtype={\n",
    "                          'fixed acidity': float,\n",
    "                          'volatile acidity': float,\n",
    "                          'citric acid': float,\n",
    "                          'residual sugar': float,\n",
    "                          'chlorides': float,\n",
    "                          'free sulfur dioxide': float,\n",
    "                          'total sulfur dioxide': float,\n",
    "                          'density': float,\n",
    "                          'pH': float,\n",
    "                          'sulphates': float,\n",
    "                          'alcohol': float,\n",
    "                          'quality': int,\n",
    "                      })\n",
    "\n",
    "# Crear columnas con string constante en cada fila\n",
    "dfwiner['type']='red'\n",
    "dfwinew['type']='white'\n",
    "\n",
    "dfwineall = pd.concat([dfwiner,dfwinew],ignore_index=True)\n",
    "dfwineall = dfwineall.drop(columns=[\"type\"])\n",
    "\n",
    "# Renombramos los nombres de las variables para facilitar su representación visual\n",
    "dfwineall.rename(\n",
    "    columns={\"fixed acidity\": \"FA\",\n",
    "            \"volatile acidity\": \"VA\",\n",
    "             \"citric acid\": \"CA\",\n",
    "             \"residual sugar\": \"RS\",\n",
    "             \"chlorides\": \"CH\",\n",
    "             \"free sulfur dioxide\": \"FSD\",\n",
    "             \"total sulfur dioxide\": \"TSD\",\n",
    "             \"density\": \"DE\",\n",
    "             \"pH\": \"PH\",\n",
    "             \"sulphates\": \"SU\",\n",
    "             \"alcohol\": \"AL\",\n",
    "             \"quality\": \"QU\"},\n",
    "    inplace=True,\n",
    ")\n",
    "\n",
    "dfwineall"
   ]
  },
  {
   "attachments": {},
   "cell_type": "markdown",
   "metadata": {},
   "source": [
    "### **Regresión Lineal Múltiple**\n",
    "\n",
    "La regresión lineal múltiple es un algoritmo supervisado que pronostica una variable de interés a tráves de un conjunto de variables denominadas independientes. El modelo establecido para dicha regresión como su nombre lo indica es de cáracter lineal.\n",
    "\n",
    "Generalmente se parte de un análisis exploratorio de los datos previo a su aplicación, en donde se analizan entidades como correlaciones, varianza, distribuciones, histogramas de las variables a utilizar. "
   ]
  },
  {
   "cell_type": "code",
   "execution_count": 75,
   "metadata": {},
   "outputs": [
    {
     "data": {
      "image/png": "[encoded data removed]",
      "text/plain": [
       "<Figure size 640x480 with 2 Axes>"
      ]
     },
     "metadata": {},
     "output_type": "display_data"
    }
   ],
   "source": [
    "import seaborn as sns\n",
    "import matplotlib.pyplot as plt\n",
    "import numpy as np\n",
    "\n",
    "# Matriz de Correlación\n",
    "dfcorr = dfwineall.corr().round(2)\n",
    "mask = np.triu(np.ones_like(dfcorr, dtype=bool))\n",
    "sns.heatmap(dfcorr, annot=True, vmax=1, vmin=-1, center=0, cmap='rocket', mask=mask, )\n",
    "plt.show()"
   ]
  },
  {
   "attachments": {},
   "cell_type": "markdown",
   "metadata": {},
   "source": [
    "A partir de aquí vamos a partir los datos en 2 conjuntos: variables independientes y variable dependiente. Posteriormente partiremos estos dos conjuntos en _train_ y _test_ para evaluar el desempeño del modelo."
   ]
  },
  {
   "cell_type": "code",
   "execution_count": 76,
   "metadata": {},
   "outputs": [],
   "source": [
    "from sklearn.model_selection import train_test_split\n",
    "\n",
    "X=dfwineall.iloc[:,:-1]\n",
    "Y=dfwineall.iloc[:,-1]\n",
    "\n",
    "X_train, X_test, Y_train, Y_test = train_test_split(X.values,Y.values,test_size=0.2,random_state=0)"
   ]
  },
  {
   "attachments": {},
   "cell_type": "markdown",
   "metadata": {},
   "source": [
    "Aplicamos la regresión lineal"
   ]
  },
  {
   "cell_type": "code",
   "execution_count": 77,
   "metadata": {},
   "outputs": [],
   "source": [
    "from sklearn.linear_model import LinearRegression\n",
    "\n",
    "regressor=LinearRegression()\n",
    "regressor.fit(X_train,Y_train)\n",
    "Y_prediction=regressor.predict(X_test)\n"
   ]
  },
  {
   "attachments": {},
   "cell_type": "markdown",
   "metadata": {},
   "source": [
    "### **Regresión Lineal Múltiple con DBSCAN**\n"
   ]
  },
  {
   "attachments": {},
   "cell_type": "markdown",
   "metadata": {},
   "source": [
    "Retomemos los outliers identificados por el DBSCAN y procedamos a eliminarlos del conjunto de datos"
   ]
  },
  {
   "cell_type": "code",
   "execution_count": 78,
   "metadata": {},
   "outputs": [],
   "source": [
    "from sklearn import preprocessing\n",
    "\n",
    "# Datos escalados\n",
    "dfwineall_scaled = preprocessing.StandardScaler().fit_transform(dfwineall)\n",
    "dfwineall_scaled = pd.DataFrame(dfwineall_scaled) \n",
    "dfwineall_scaled = dfwineall_scaled.rename(columns = {0:'FA',1: 'VA', 2:'CA',3:'RS',4:'CH',5:'FSD',6:'TSD',7:'DE',8:'PH',9:'SU',10:'AL',11:'QU'})"
   ]
  },
  {
   "cell_type": "code",
   "execution_count": 79,
   "metadata": {},
   "outputs": [],
   "source": [
    "from sklearn.cluster import DBSCAN\n",
    "\n",
    "# DBSCAN para todo el conjunto\n",
    "model_dbscanX = DBSCAN(eps=3, min_samples = 5, metric = \"euclidean\").fit(dfwineall_scaled)"
   ]
  },
  {
   "attachments": {},
   "cell_type": "markdown",
   "metadata": {},
   "source": [
    "Nuevo dataframe sin outliers"
   ]
  },
  {
   "cell_type": "code",
   "execution_count": 80,
   "metadata": {},
   "outputs": [],
   "source": [
    "clusters = model_dbscanX.fit_predict(dfwineall_scaled)\n",
    "\n",
    "dfwineclean = dfwineall.copy(deep=True)\n",
    "dfwineclean['id'] = clusters\n",
    "\n",
    "dfwineclean = dfwineclean.drop(dfwineclean[dfwineclean['id'] == -1].index)\n",
    "dfwineclean = dfwineclean.drop(columns=[\"id\"])"
   ]
  },
  {
   "attachments": {},
   "cell_type": "markdown",
   "metadata": {},
   "source": [
    "Nueva Regresión"
   ]
  },
  {
   "cell_type": "code",
   "execution_count": 81,
   "metadata": {},
   "outputs": [],
   "source": [
    "X2=dfwineclean.iloc[:,:-1]\n",
    "Y2=dfwineclean.iloc[:,-1]\n",
    "\n",
    "X2_train, X2_test, Y2_train, Y2_test = train_test_split(X2.values,Y2.values,test_size=0.2,random_state=0)\n",
    "\n",
    "regressor=LinearRegression()\n",
    "regressor.fit(X2_train,Y2_train)\n",
    "Y2_prediction=regressor.predict(X2_test)"
   ]
  },
  {
   "attachments": {},
   "cell_type": "markdown",
   "metadata": {},
   "source": [
    "### **Random Forest**\n"
   ]
  },
  {
   "attachments": {},
   "cell_type": "markdown",
   "metadata": {},
   "source": [
    "_Random Forest_ es un algoritmo supervisado que construye árboles de decisión de manera aleatoria, con el objetivo de combinarlos y obtener una predicción más estable y precisa. En lugar de buscar la característica más importante al dividir un nodo, busca la mejor característica entre un subconjunto aleatorio de características."
   ]
  },
  {
   "cell_type": "code",
   "execution_count": 82,
   "metadata": {},
   "outputs": [],
   "source": [
    "# Aplicación Random Forest Regressor\n",
    "from sklearn.ensemble import RandomForestRegressor\n",
    "RFR = RandomForestRegressor(n_estimators=100)\n",
    "RFR.fit(X_train,Y_train)\n",
    "\n",
    "Y3_prediction = RFR.predict(X_test)\n"
   ]
  },
  {
   "attachments": {},
   "cell_type": "markdown",
   "metadata": {},
   "source": [
    "### **Comparativa**"
   ]
  },
  {
   "cell_type": "code",
   "execution_count": 148,
   "metadata": {},
   "outputs": [
    {
     "data": {
      "text/html": [
       "<div>\n",
       "<style scoped>\n",
       "    .dataframe tbody tr th:only-of-type {\n",
       "        vertical-align: middle;\n",
       "    }\n",
       "\n",
       "    .dataframe tbody tr th {\n",
       "        vertical-align: top;\n",
       "    }\n",
       "\n",
       "    .dataframe thead th {\n",
       "        text-align: right;\n",
       "    }\n",
       "</style>\n",
       "<table border=\"1\" class=\"dataframe\">\n",
       "  <thead>\n",
       "    <tr style=\"text-align: right;\">\n",
       "      <th></th>\n",
       "      <th>Observado</th>\n",
       "      <th>MLR</th>\n",
       "      <th>MLR*</th>\n",
       "      <th>RFR</th>\n",
       "    </tr>\n",
       "  </thead>\n",
       "  <tbody>\n",
       "    <tr>\n",
       "      <th>0</th>\n",
       "      <td>6</td>\n",
       "      <td>5.368535</td>\n",
       "      <td>6.124591</td>\n",
       "      <td>5.86</td>\n",
       "    </tr>\n",
       "    <tr>\n",
       "      <th>1</th>\n",
       "      <td>8</td>\n",
       "      <td>5.952585</td>\n",
       "      <td>5.375656</td>\n",
       "      <td>7.12</td>\n",
       "    </tr>\n",
       "    <tr>\n",
       "      <th>2</th>\n",
       "      <td>7</td>\n",
       "      <td>6.047840</td>\n",
       "      <td>6.178584</td>\n",
       "      <td>6.49</td>\n",
       "    </tr>\n",
       "    <tr>\n",
       "      <th>3</th>\n",
       "      <td>6</td>\n",
       "      <td>6.648116</td>\n",
       "      <td>5.457693</td>\n",
       "      <td>6.80</td>\n",
       "    </tr>\n",
       "    <tr>\n",
       "      <th>4</th>\n",
       "      <td>4</td>\n",
       "      <td>5.401926</td>\n",
       "      <td>5.753593</td>\n",
       "      <td>5.43</td>\n",
       "    </tr>\n",
       "    <tr>\n",
       "      <th>5</th>\n",
       "      <td>6</td>\n",
       "      <td>6.374916</td>\n",
       "      <td>5.804332</td>\n",
       "      <td>6.28</td>\n",
       "    </tr>\n",
       "    <tr>\n",
       "      <th>6</th>\n",
       "      <td>5</td>\n",
       "      <td>5.990001</td>\n",
       "      <td>6.163332</td>\n",
       "      <td>5.81</td>\n",
       "    </tr>\n",
       "    <tr>\n",
       "      <th>7</th>\n",
       "      <td>6</td>\n",
       "      <td>5.992622</td>\n",
       "      <td>6.038741</td>\n",
       "      <td>5.99</td>\n",
       "    </tr>\n",
       "    <tr>\n",
       "      <th>8</th>\n",
       "      <td>7</td>\n",
       "      <td>6.317749</td>\n",
       "      <td>5.583624</td>\n",
       "      <td>6.57</td>\n",
       "    </tr>\n",
       "    <tr>\n",
       "      <th>9</th>\n",
       "      <td>6</td>\n",
       "      <td>5.665515</td>\n",
       "      <td>5.900248</td>\n",
       "      <td>5.77</td>\n",
       "    </tr>\n",
       "  </tbody>\n",
       "</table>\n",
       "</div>"
      ],
      "text/plain": [
       "   Observado       MLR      MLR*   RFR\n",
       "0          6  5.368535  6.124591  5.86\n",
       "1          8  5.952585  5.375656  7.12\n",
       "2          7  6.047840  6.178584  6.49\n",
       "3          6  6.648116  5.457693  6.80\n",
       "4          4  5.401926  5.753593  5.43\n",
       "5          6  6.374916  5.804332  6.28\n",
       "6          5  5.990001  6.163332  5.81\n",
       "7          6  5.992622  6.038741  5.99\n",
       "8          7  6.317749  5.583624  6.57\n",
       "9          6  5.665515  5.900248  5.77"
      ]
     },
     "execution_count": 148,
     "metadata": {},
     "output_type": "execute_result"
    }
   ],
   "source": [
    "import random\n",
    "\n",
    "# create list of 5 random numbers\n",
    "sct_indx = random.sample(range(1300), 10)\n",
    "Ysamp_Obs = pd.DataFrame(Y_test[sct_indx])\n",
    "Ysamp_MLR = pd.DataFrame(Y_prediction[sct_indx])\n",
    "Ysamp_MLR_DB = pd.DataFrame(Y2_prediction[sct_indx])\n",
    "Ysamp_RFR = pd.DataFrame(Y3_prediction[sct_indx])\n",
    "\n",
    "resp_reg = pd.concat([Ysamp_Obs,Ysamp_MLR,Ysamp_MLR_DB,Ysamp_RFR],axis=1)\n",
    "resp_reg.set_axis(['Observado', 'MLR', 'MLR*','RFR'], axis='columns')\n"
   ]
  },
  {
   "attachments": {},
   "cell_type": "markdown",
   "metadata": {},
   "source": [
    "### **Conclusiones**\n",
    "\n",
    "De la muestra seleccionada, se puede observar que en el caso de las regresiones lineales existe una dificultad para aproximar puntuaciones extremas de los vinos, a primera vista aún no es clara la contribución de haber aplicado DBSCAN como paso previo a la segunda regresión, sin embargo, en capitulos posteriores se analizará el desempeño de estas técnicas a tráves de indicadores. Lo único claro hasta el momento es la mejor reacción que obtuvo la regresión por bosque aleatorio a comparación de los otros modelos."
   ]
  },
  {
   "cell_type": "code",
   "execution_count": 102,
   "metadata": {},
   "outputs": [
    {
     "data": {
      "image/png": "[encoded data removed]",
      "text/plain": [
       "<Figure size 640x480 with 1 Axes>"
      ]
     },
     "metadata": {},
     "output_type": "display_data"
    }
   ],
   "source": [
    "plt.scatter(range(1300),Y_test)\n",
    "plt.show()"
   ]
  }
 ],
 "metadata": {
  "kernelspec": {
   "display_name": "Python 3",
   "language": "python",
   "name": "python3"
  },
  "language_info": {
   "codemirror_mode": {
    "name": "ipython",
    "version": 3
   },
   "file_extension": ".py",
   "mimetype": "text/x-python",
   "name": "python",
   "nbconvert_exporter": "python",
   "pygments_lexer": "ipython3",
   "version": "3.10.10"
  },
  "orig_nbformat": 4
 },
 "nbformat": 4,
 "nbformat_minor": 2
}
