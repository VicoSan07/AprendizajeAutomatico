{
  "cells": [
    {
      "cell_type": "markdown",
      "metadata": {
        "colab_type": "text",
        "id": "view-in-github"
      },
      "source": [
        "<a href=\"https://colab.research.google.com/github/VicoSan07/AprendizajeAutomatico/blob/main/Actividad1_AA_2023.ipynb\" target=\"_parent\"><img src=\"https://colab.research.google.com/assets/colab-badge.svg\" alt=\"Open In Colab\"/></a>"
      ]
    },
    {
      "cell_type": "markdown",
      "metadata": {
        "id": "JDhqeDnRp-DR"
      },
      "source": [
        "# Correlación en Python\n",
        "### [Victor Sanchez](https://github.com/VicoSan07)\n",
        "\n",
        "La correlación es una medida estadística que expresa el nivel o grado en que dos variables estan linealmente relacionadas. El rango de valores que toma la correlación se encuentra entre -1 a 1.\n",
        "\n",
        "Siendo una de las medidas más básicas y útiles en la estadistica, es relevante ser capaz de calcularla. Actualmente existe una amplia gama de programas que pueden generar su cálculo, por ejemplo, Python."
      ]
    },
    {
      "cell_type": "markdown",
      "metadata": {
        "id": "crTUHNsMSTh7"
      },
      "source": [
        "### **Numpy**\n",
        "\n",
        "Librería especializada en el cálculo numérico y el análisis de datos. Será necesario importarla"
      ]
    },
    {
      "cell_type": "code",
      "execution_count": 1,
      "metadata": {
        "id": "Z4GUv4uhS4_5"
      },
      "outputs": [],
      "source": [
        "import numpy as np"
      ]
    },
    {
      "cell_type": "markdown",
      "metadata": {
        "id": "3Ai2aj9mTUf9"
      },
      "source": [
        "### **Variables**\n",
        "\n",
        "Generalmente, los datos de las variables se encuentran contenidas dentro de arrays. En nuestro caso, al no contar con variables especificas a comparar, se generarán arrays con números aleatorios"
      ]
    },
    {
      "cell_type": "code",
      "execution_count": 11,
      "metadata": {
        "colab": {
          "base_uri": "https://localhost:8080/"
        },
        "id": "JiUSZEZcUTaX",
        "outputId": "0200b550-97e8-4ec0-b333-1eb1550332a2"
      },
      "outputs": [
        {
          "name": "stdout",
          "output_type": "stream",
          "text": [
            "El vector x es [29 23 34 38 28 37 35 30 54 21 56 26 47 25 35  5 19 48  6 23]\n",
            "\n",
            "El vector y es [332 140 482 431 307 317 158 427 445 135 341 478 537  63 323 256 255 216\n",
            "  71 496]\n"
          ]
        }
      ],
      "source": [
        "# Creamos dos arrays con 20 enteros, los primeros dos parametros definen el rango de valores que tomarán los arrays\n",
        "x = np.random.randint(5, 60, 20)\n",
        "y = np.random.randint(50,600,20)\n",
        "print('El vector x es '+ str(x) + '\\n')\n",
        "print('El vector y es '+ str(y) )"
      ]
    },
    {
      "cell_type": "markdown",
      "metadata": {
        "id": "1RMtXhyiW-Es"
      },
      "source": [
        "### **Cálculo Matriz de Correlación**"
      ]
    },
    {
      "cell_type": "code",
      "execution_count": 13,
      "metadata": {
        "colab": {
          "base_uri": "https://localhost:8080/"
        },
        "id": "YY89nYAQXGAL",
        "outputId": "ca6358f6-5aa9-46e0-8063-cd0175e12b07"
      },
      "outputs": [
        {
          "name": "stdout",
          "output_type": "stream",
          "text": [
            "La matriz de correlación está dada por \n",
            "[[1.         0.44317998]\n",
            " [0.44317998 1.        ]]\n"
          ]
        }
      ],
      "source": [
        "# Función\n",
        "corri = np.corrcoef(x,y)\n",
        "# Impresión\n",
        "print('La matriz de correlación está dada por \\n' + str(corri))"
      ]
    }
  ],
  "metadata": {
    "colab": {
      "include_colab_link": true,
      "name": "Welcome To Colaboratory",
      "provenance": []
    },
    "kernelspec": {
      "display_name": "Python 3",
      "language": "python",
      "name": "python3"
    },
    "language_info": {
      "name": "python",
      "version": "3.10.10"
    },
    "vscode": {
      "interpreter": {
        "hash": "96748773c7e69786d6b782d7f74ae71633dcb1c0b499cdd27921b016107794e2"
      }
    }
  },
  "nbformat": 4,
  "nbformat_minor": 0
}
