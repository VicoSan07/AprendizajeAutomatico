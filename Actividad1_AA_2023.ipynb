{
  "cells": [
    {
      "cell_type": "markdown",
      "metadata": {
        "id": "view-in-github",
        "colab_type": "text"
      },
      "source": [
        "<a href=\"https://colab.research.google.com/github/VicoSan07/AprendizajeAutomatico/blob/main/Actividad1_AA_2023.ipynb\" target=\"_parent\"><img src=\"https://colab.research.google.com/assets/colab-badge.svg\" alt=\"Open In Colab\"/></a>"
      ]
    },
    {
      "cell_type": "markdown",
      "source": [
        "# Correlación en Python\n",
        "### [Victor Sanchez](https://github.com/VicoSan07)\n",
        "\n",
        "La correlación es una medida estadística que expresa el nivel o grado en que dos variables estan linealmente relacionadas. El rango de valores que toma la correlación se encuentra entre -1 a 1.\n",
        "\n",
        "Siendo una de las medidas más básicas y útiles en la estadistica, es relevante ser capaz de calcularla. Actualmente existe una amplia gama de programas que pueden generar su cálculo, por ejemplo, Python."
      ],
      "metadata": {
        "id": "JDhqeDnRp-DR"
      }
    },
    {
      "cell_type": "markdown",
      "source": [
        "### **Numpy**\n",
        "\n",
        "Librería especializada en el cálculo numérico y el análisis de datos. Será necesario importarla"
      ],
      "metadata": {
        "id": "crTUHNsMSTh7"
      }
    },
    {
      "cell_type": "code",
      "source": [
        "import numpy as np"
      ],
      "metadata": {
        "id": "Z4GUv4uhS4_5"
      },
      "execution_count": 1,
      "outputs": []
    },
    {
      "cell_type": "markdown",
      "source": [
        "### **Variables**\n",
        "\n",
        "Generalmente, los datos de las variables se encuentran contenidas dentro de arrays. En nuestro caso, al no contar con variables especificas a comparar, se generarán arrays con números aleatorios"
      ],
      "metadata": {
        "id": "3Ai2aj9mTUf9"
      }
    },
    {
      "cell_type": "code",
      "source": [
        "# Creamos dos arrays con 20 enteros, los primeros dos parametros definen el rango de valores que tomarán los arrays\n",
        "x = np.random.randint(5, 60, 20)\n",
        "y = np.random.randint(50,600,20)\n",
        "print('El vector x es '+ str(x) + '\\n')\n",
        "print('El vector y es '+ str(y) )"
      ],
      "metadata": {
        "colab": {
          "base_uri": "https://localhost:8080/"
        },
        "id": "JiUSZEZcUTaX",
        "outputId": "0200b550-97e8-4ec0-b333-1eb1550332a2"
      },
      "execution_count": 11,
      "outputs": [
        {
          "output_type": "stream",
          "name": "stdout",
          "text": [
            "El vector x es [29 23 34 38 28 37 35 30 54 21 56 26 47 25 35  5 19 48  6 23]\n",
            "\n",
            "El vector y es [332 140 482 431 307 317 158 427 445 135 341 478 537  63 323 256 255 216\n",
            "  71 496]\n"
          ]
        }
      ]
    },
    {
      "cell_type": "markdown",
      "source": [
        "### **Cálculo Matriz de Correlación**"
      ],
      "metadata": {
        "id": "1RMtXhyiW-Es"
      }
    },
    {
      "cell_type": "code",
      "source": [
        "# Función\n",
        "corri = np.corrcoef(x,y)\n",
        "# Impresión\n",
        "print('La matriz de correlación está dada por \\n' + str(corri))"
      ],
      "metadata": {
        "colab": {
          "base_uri": "https://localhost:8080/"
        },
        "id": "YY89nYAQXGAL",
        "outputId": "ca6358f6-5aa9-46e0-8063-cd0175e12b07"
      },
      "execution_count": 13,
      "outputs": [
        {
          "output_type": "stream",
          "name": "stdout",
          "text": [
            "La matriz de correlación está dada por \n",
            "[[1.         0.44317998]\n",
            " [0.44317998 1.        ]]\n"
          ]
        }
      ]
    }
  ],
  "metadata": {
    "colab": {
      "name": "Welcome To Colaboratory",
      "provenance": [],
      "include_colab_link": true
    },
    "kernelspec": {
      "display_name": "Python 3",
      "name": "python3"
    }
  },
  "nbformat": 4,
  "nbformat_minor": 0
}