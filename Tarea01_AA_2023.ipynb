{
  "cells": [
    {
      "cell_type": "markdown",
      "metadata": {
        "colab_type": "text",
        "id": "view-in-github"
      },
      "source": [
        "<a href=\"https://colab.research.google.com/github/VicoSan07/AprendizajeAutomatico/blob/main/Tarea01_AA_2023.ipynb\" target=\"_parent\"><img src=\"https://colab.research.google.com/assets/colab-badge.svg\" alt=\"Open In Colab\"/></a>"
      ]
    },
    {
      "cell_type": "markdown",
      "metadata": {
        "id": "wvXILf1xh5Dk"
      },
      "source": [
        "# **Tarea 01 - Selección de dataset**\n",
        "\n",
        "Maestría en Ciencia de Datos - UANL <br>\n",
        "[Victor Sanchez](https://github.com/VicoSan07) \n"
      ]
    },
    {
      "cell_type": "markdown",
      "metadata": {
        "id": "kXAJGwrhjYix"
      },
      "source": [
        "### **Calidad de Vino**\n",
        "\n",
        "He seleccionado este conjunto de datos derivado de la posibilidad de utilizar tareas de clasificación y regresión. Sumado a que me resulta interesante conocer el impacto y uso que puede tener el analisis de las propiedades quimicas de los productos en decisiones de negocio y como el ML está relacionado. Además, ya podré de elegir manera los vinos para ocasiones especiales :)\n",
        "\n"
      ]
    },
    {
      "cell_type": "markdown",
      "metadata": {
        "id": "aN5qg9Cgjmbf"
      },
      "source": [
        "### **Objetivos**\n",
        "\n",
        "1. Tener noción de como se testean los productos en la industria\n",
        "2. Comprender la relación que pueden tener las herramientas de ML con respecto a este sector\n",
        "3. Dominar dichas herramientas, especialmente clasificación y regresión.\n",
        "4. Ir más allá de un análisis básico"
      ]
    },
    {
      "cell_type": "markdown",
      "metadata": {
        "id": "XYrLjmC_oryn"
      },
      "source": [
        "### **Otros intereses**\n",
        "\n",
        "Algunas otras bases que me interesaron son:\n",
        "\n",
        "- [Fake News](https://www.kaggle.com/c/fake-news/data)\n",
        "- [Pokemón](https://www.kaggle.com/datasets/alopez247/pokemon)\n",
        "- [IMBD Reviews](https://ai.stanford.edu/~amaas/data/sentiment/)\n"
      ]
    }
  ],
  "metadata": {
    "colab": {
      "include_colab_link": true,
      "name": "Welcome To Colaboratory",
      "provenance": [],
      "toc_visible": true
    },
    "kernelspec": {
      "display_name": "Python 3",
      "language": "python",
      "name": "python3"
    },
    "language_info": {
      "name": "python",
      "version": "3.10.10"
    },
    "vscode": {
      "interpreter": {
        "hash": "96748773c7e69786d6b782d7f74ae71633dcb1c0b499cdd27921b016107794e2"
      }
    }
  },
  "nbformat": 4,
  "nbformat_minor": 0
}
