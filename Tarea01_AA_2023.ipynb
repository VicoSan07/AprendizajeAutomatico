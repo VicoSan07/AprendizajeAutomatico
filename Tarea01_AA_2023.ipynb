{
  "cells": [
    {
      "cell_type": "markdown",
      "metadata": {
        "id": "view-in-github",
        "colab_type": "text"
      },
      "source": [
        "<a href=\"https://colab.research.google.com/github/VicoSan07/AprendizajeAutomatico/blob/main/Tarea01_AA_2023.ipynb\" target=\"_parent\"><img src=\"https://colab.research.google.com/assets/colab-badge.svg\" alt=\"Open In Colab\"/></a>"
      ]
    },
    {
      "cell_type": "markdown",
      "source": [
        "# **Tarea 01 - Selección de dataset**\n",
        "\n",
        "Maestría en Ciencia de Datos - UANL <br>\n",
        "[Victor Sanchez](https://github.com/VicoSan07) \n"
      ],
      "metadata": {
        "id": "wvXILf1xh5Dk"
      }
    },
    {
      "cell_type": "markdown",
      "source": [
        "### **Calidad de Vino**\n",
        "\n",
        "He seleccionado este conjunto de datos derivado de la posibilidad de utilizar tareas de clasificación y regresión. Sumado a que me resulta interesante conocer el impacto y uso que puede tener el analisis de las propiedades quimicas de los productos en decisiones de negocio y como el ML está relacionado. Además, ya podré de elegir manera los vinos para ocasiones especiales :)\n",
        "\n"
      ],
      "metadata": {
        "id": "kXAJGwrhjYix"
      }
    },
    {
      "cell_type": "markdown",
      "source": [
        "### **Objetivos**\n",
        "\n",
        "1. Tener noción de como se testean los productos en la industria\n",
        "2. Comprender la relación que pueden tener las herramientas de ML con respecto a este sector\n",
        "3. Dominar dichas herramientas, especialmente clasificación y regresión.\n",
        "4. Ir más allá de un análisis básico"
      ],
      "metadata": {
        "id": "aN5qg9Cgjmbf"
      }
    },
    {
      "cell_type": "markdown",
      "source": [
        "### **Otros intereses**\n",
        "\n",
        "Algunas otras bases que me interesaron son:\n",
        "\n",
        "- [Fake News](https://www.kaggle.com/c/fake-news/data)\n",
        "- [Pokemón](https://www.kaggle.com/datasets/alopez247/pokemon)\n",
        "- [IMBD Reviews](https://ai.stanford.edu/~amaas/data/sentiment/)\n"
      ],
      "metadata": {
        "id": "XYrLjmC_oryn"
      }
    }
  ],
  "metadata": {
    "colab": {
      "name": "Welcome To Colaboratory",
      "toc_visible": true,
      "provenance": [],
      "include_colab_link": true
    },
    "kernelspec": {
      "display_name": "Python 3",
      "name": "python3"
    }
  },
  "nbformat": 4,
  "nbformat_minor": 0
}