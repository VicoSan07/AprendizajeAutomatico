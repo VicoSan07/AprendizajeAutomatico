{
 "cells": [
  {
   "attachments": {},
   "cell_type": "markdown",
   "metadata": {},
   "source": [
    "# **Actividad 03 - Medidas de Tendencia Central y de Dispersión**\n",
    "\n",
    "[Victor Sanchez](https://github.com/VicoSan07) <br>\n",
    "Dataset: [Wine Quality](https://archive.ics.uci.edu/ml/datasets/wine+quality)  "
   ]
  },
  {
   "attachments": {},
   "cell_type": "markdown",
   "metadata": {},
   "source": [
    "Carga de datos:"
   ]
  },
  {
   "cell_type": "code",
   "execution_count": 2,
   "metadata": {},
   "outputs": [],
   "source": [
    "import pandas as pd\n",
    "\n",
    "#Carga de dataset 'vino rojo' \n",
    "dfwiner = pd.read_csv(r'C:/Users/vicos/Documents/winequality-red.csv',delimiter=\";\",\n",
    "                      #Tipo de datos en cada columna\n",
    "                      dtype={\n",
    "                          'fixed acidity': float,\n",
    "                          'volatile acidity': float,\n",
    "                          'citric acid': float,\n",
    "                          'residual sugar': float,\n",
    "                          'chlorides': float,\n",
    "                          'free sulfur dioxide': float,\n",
    "                          'total sulfur dioxide': float,\n",
    "                          'density': float,\n",
    "                          'pH': float,\n",
    "                          'sulphates': float,\n",
    "                          'alcohol': float,\n",
    "                          'quality': int,\n",
    "                      })\n",
    "\n",
    "#Carga de dataset 'vino blanco' \n",
    "dfwinew = pd.read_csv(r'C:/Users/vicos/Documents/winequality-white.csv',delimiter=\";\",\n",
    "                      #Tipo de datos en cada columna\n",
    "                      dtype={\n",
    "                          'fixed acidity': float,\n",
    "                          'volatile acidity': float,\n",
    "                          'citric acid': float,\n",
    "                          'residual sugar': float,\n",
    "                          'chlorides': float,\n",
    "                          'free sulfur dioxide': float,\n",
    "                          'total sulfur dioxide': float,\n",
    "                          'density': float,\n",
    "                          'pH': float,\n",
    "                          'sulphates': float,\n",
    "                          'alcohol': float,\n",
    "                          'quality': int,\n",
    "                      })\n"
   ]
  },
  {
   "attachments": {},
   "cell_type": "markdown",
   "metadata": {},
   "source": [
    "Funciones puras que calcularán medidas de tendencia central y de dispersión:"
   ]
  },
  {
   "cell_type": "code",
   "execution_count": 49,
   "metadata": {},
   "outputs": [],
   "source": [
    "# Promedio\n",
    "def promedio(vecdum):\n",
    "    # Variable auxiliar que nos dará la suma de todos los elementos\n",
    "    csum = 0\n",
    "    # Variable que guarda el tamaño del array\n",
    "    nsize = len(vecdum)\n",
    "    # Sumamos elemento por elemento\n",
    "    for i in range(0,nsize):\n",
    "        csum = csum + vecdum[i]\n",
    "    # Dividimos entre la cantidad de elementos\n",
    "    prom = csum/len(vecdum)\n",
    "\n",
    "    return prom\n",
    "\n",
    "\n",
    "# Mediana \n",
    "def mediana(vecdum):\n",
    "    # Variable que guarda el tamaño del array\n",
    "    nsize = len(vecdum)\n",
    "    # Ordenamos el vector de menor a mayor\n",
    "    sort_vecdum = sorted(vecdum,reverse=False)\n",
    "    # Criterio de selección, dependera del tamaño del array: par o impar\n",
    "    if nsize % 2:\n",
    "        selectpoint = (nsize+1) // 2\n",
    "        return sort_vecdum[selectpoint]\n",
    "    else:\n",
    "        selectpoint = nsize //2\n",
    "        return (sort_vecdum[selectpoint] + sort_vecdum[selectpoint + 1]) / 2.0\n",
    "\n",
    "\n",
    "# Moda\n",
    "def moda(vecdum):\n",
    "    # Conjunto que guardará los registros por valor\n",
    "    set_val = {}\n",
    "    # Para cada elemento del array\n",
    "    for x in vecdum:\n",
    "        # Verificaremos si es la primera aparición del valor en el conjunto \n",
    "        if not x in set_val:\n",
    "            set_val[x]=1\n",
    "        # En caso contrario, sumaremos la repetición \n",
    "        else:\n",
    "            set_val[x]+=1\n",
    "   # Finalmente retornaremos la moda como conjunto\n",
    "    return [fas for fas,hion in set_val.items() if hion==max(set_val.values())]\n",
    "            "
   ]
  },
  {
   "cell_type": "code",
   "execution_count": null,
   "metadata": {},
   "outputs": [],
   "source": [
    "# Resultados\n",
    "#promwiner = round(promedio(dfwiner.alcohol),2)\n",
    "#mediwiner = mediana(dfwiner.alcohol)\n",
    "#modawiner = moda(dfwiner.alcohol)"
   ]
  }
 ],
 "metadata": {
  "kernelspec": {
   "display_name": "Python 3",
   "language": "python",
   "name": "python3"
  },
  "language_info": {
   "codemirror_mode": {
    "name": "ipython",
    "version": 3
   },
   "file_extension": ".py",
   "mimetype": "text/x-python",
   "name": "python",
   "nbconvert_exporter": "python",
   "pygments_lexer": "ipython3",
   "version": "3.10.9"
  },
  "orig_nbformat": 4,
  "vscode": {
   "interpreter": {
    "hash": "96748773c7e69786d6b782d7f74ae71633dcb1c0b499cdd27921b016107794e2"
   }
  }
 },
 "nbformat": 4,
 "nbformat_minor": 2
}
