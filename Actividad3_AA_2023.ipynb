{
 "cells": [
  {
   "attachments": {},
   "cell_type": "markdown",
   "metadata": {},
   "source": [
    "# **Actividad 03 - Medidas de Tendencia Central y de Dispersión**\n",
    "\n",
    "[Victor Sanchez](https://github.com/VicoSan07) <br>\n",
    "Dataset: [Wine Quality](https://archive.ics.uci.edu/ml/datasets/wine+quality)  "
   ]
  },
  {
   "attachments": {},
   "cell_type": "markdown",
   "metadata": {},
   "source": [
    "Carga de datos:"
   ]
  },
  {
   "cell_type": "code",
   "execution_count": 59,
   "metadata": {},
   "outputs": [],
   "source": [
    "import pandas as pd\n",
    "\n",
    "#Carga de dataset 'vino rojo' \n",
    "dfwiner = pd.read_csv(r'C:/Users/vicos/Documents/winequality-red.csv',delimiter=\";\",\n",
    "                      #Tipo de datos en cada columna\n",
    "                      dtype={\n",
    "                          'fixed acidity': float,\n",
    "                          'volatile acidity': float,\n",
    "                          'citric acid': float,\n",
    "                          'residual sugar': float,\n",
    "                          'chlorides': float,\n",
    "                          'free sulfur dioxide': float,\n",
    "                          'total sulfur dioxide': float,\n",
    "                          'density': float,\n",
    "                          'pH': float,\n",
    "                          'sulphates': float,\n",
    "                          'alcohol': float,\n",
    "                          'quality': int,\n",
    "                      })\n",
    "\n",
    "#Carga de dataset 'vino blanco' \n",
    "dfwinew = pd.read_csv(r'C:/Users/vicos/Documents/winequality-white.csv',delimiter=\";\",\n",
    "                      #Tipo de datos en cada columna\n",
    "                      dtype={\n",
    "                          'fixed acidity': float,\n",
    "                          'volatile acidity': float,\n",
    "                          'citric acid': float,\n",
    "                          'residual sugar': float,\n",
    "                          'chlorides': float,\n",
    "                          'free sulfur dioxide': float,\n",
    "                          'total sulfur dioxide': float,\n",
    "                          'density': float,\n",
    "                          'pH': float,\n",
    "                          'sulphates': float,\n",
    "                          'alcohol': float,\n",
    "                          'quality': int,\n",
    "                      })\n"
   ]
  },
  {
   "attachments": {},
   "cell_type": "markdown",
   "metadata": {},
   "source": [
    "Funciones puras que calcularán medidas de tendencia central y de dispersión:"
   ]
  },
  {
   "cell_type": "code",
   "execution_count": 61,
   "metadata": {},
   "outputs": [],
   "source": [
    "# Promedio\n",
    "def promedio(vecdum):\n",
    "    # Variable auxiliar que nos dará la suma de todos los elementos\n",
    "    csum = 0\n",
    "    # Variable que guarda el tamaño del array\n",
    "    nsize = len(vecdum)\n",
    "    # Sumamos elemento por elemento\n",
    "    for i in range(0,nsize):\n",
    "        csum = csum + vecdum[i]\n",
    "    # Dividimos entre la cantidad de elementos\n",
    "    prom = csum/len(vecdum)\n",
    "\n",
    "    return prom\n",
    "\n",
    "\n",
    "# Mediana \n",
    "def mediana(vecdum):\n",
    "    # Variable que guarda el tamaño del array\n",
    "    nsize = len(vecdum)\n",
    "    # Ordenamos el vector de menor a mayor\n",
    "    sort_vecdum = sorted(vecdum,reverse=False)\n",
    "    # Criterio de selección, dependera del tamaño del array: par o impar\n",
    "    if nsize % 2:\n",
    "        selectpoint = (nsize+1) // 2\n",
    "        return sort_vecdum[selectpoint]\n",
    "    else:\n",
    "        selectpoint = nsize //2\n",
    "        return (sort_vecdum[selectpoint] + sort_vecdum[selectpoint + 1]) / 2.0\n",
    "\n",
    "\n",
    "# Moda\n",
    "def moda(vecdum):\n",
    "    # Conjunto que guardará los registros por valor\n",
    "    set_val = {}\n",
    "    # Para cada elemento del array\n",
    "    for x in vecdum:\n",
    "        # Verificaremos si es la primera aparición del valor en el conjunto \n",
    "        if not x in set_val:\n",
    "            set_val[x]=1\n",
    "        # En caso contrario, sumaremos la repetición \n",
    "        else:\n",
    "            set_val[x]+=1\n",
    "   # Finalmente retornaremos la moda como conjunto\n",
    "    return [fas for fas,hion in set_val.items() if hion==max(set_val.values())]\n",
    "\n",
    "\n",
    "#Varianza\n",
    "def varianza(vecdum):\n",
    "    nsize = len(vecdum)\n",
    "    # Utilizaremos la formula de promedio que ya anteriormente definimos\n",
    "    promi = promedio(vecdum)\n",
    "    sumsquares = sum((x-promi)**2 for x in vecdum)\n",
    "    # Asumiremos que estamos trabajando con una varianza muestral\n",
    "    vari = sumsquares/(nsize-1)\n",
    "    return vari\n",
    "\n",
    "# Desviación Estandar\n",
    "def desvest(vecdum):\n",
    "    devtf = varianza(vecdum)**(1/2)\n",
    "    return devtf"
   ]
  },
  {
   "cell_type": "code",
   "execution_count": 25,
   "metadata": {},
   "outputs": [],
   "source": [
    "# Resultados\n",
    "\n",
    "def resultadosf(vecdum):\n",
    "    \n",
    "    # Uso de funciones anteriormente creadas\n",
    "    promwine = round(promedio(vecdum),2)\n",
    "    mediwine = round(mediana(vecdum),2)\n",
    "    modawine = moda(vecdum)\n",
    "    variwine = round(varianza(vecdum),2)\n",
    "    desvwine = round(desvest(vecdum),2)\n",
    "    \n",
    "    # Crear dataframe\n",
    "    estadiwine = pd.DataFrame({\n",
    "    'Estadisticos': ['promedio','mediana','moda','varianza','desviacion'],\n",
    "    'Valores': [promwine,mediwine,modawine,variwine,desvwine]\n",
    "    })\n",
    "\n",
    "    return estadiwine"
   ]
  },
  {
   "cell_type": "code",
   "execution_count": 62,
   "metadata": {},
   "outputs": [
    {
     "name": "stdout",
     "output_type": "stream",
     "text": [
      "Los estadísticos más relevantes de la variable alcohol son:\n"
     ]
    },
    {
     "data": {
      "text/html": [
       "<div>\n",
       "<style scoped>\n",
       "    .dataframe tbody tr th:only-of-type {\n",
       "        vertical-align: middle;\n",
       "    }\n",
       "\n",
       "    .dataframe tbody tr th {\n",
       "        vertical-align: top;\n",
       "    }\n",
       "\n",
       "    .dataframe thead th {\n",
       "        text-align: right;\n",
       "    }\n",
       "</style>\n",
       "<table border=\"1\" class=\"dataframe\">\n",
       "  <thead>\n",
       "    <tr style=\"text-align: right;\">\n",
       "      <th></th>\n",
       "      <th>Estadisticos</th>\n",
       "      <th>Valores</th>\n",
       "    </tr>\n",
       "  </thead>\n",
       "  <tbody>\n",
       "    <tr>\n",
       "      <th>0</th>\n",
       "      <td>promedio</td>\n",
       "      <td>10.42</td>\n",
       "    </tr>\n",
       "    <tr>\n",
       "      <th>1</th>\n",
       "      <td>mediana</td>\n",
       "      <td>10.2</td>\n",
       "    </tr>\n",
       "    <tr>\n",
       "      <th>2</th>\n",
       "      <td>moda</td>\n",
       "      <td>[9.5]</td>\n",
       "    </tr>\n",
       "    <tr>\n",
       "      <th>3</th>\n",
       "      <td>varianza</td>\n",
       "      <td>1.14</td>\n",
       "    </tr>\n",
       "    <tr>\n",
       "      <th>4</th>\n",
       "      <td>desviacion</td>\n",
       "      <td>1.07</td>\n",
       "    </tr>\n",
       "  </tbody>\n",
       "</table>\n",
       "</div>"
      ],
      "text/plain": [
       "  Estadisticos Valores\n",
       "0     promedio   10.42\n",
       "1      mediana    10.2\n",
       "2         moda   [9.5]\n",
       "3     varianza    1.14\n",
       "4   desviacion    1.07"
      ]
     },
     "execution_count": 62,
     "metadata": {},
     "output_type": "execute_result"
    }
   ],
   "source": [
    "print('Los estadísticos más relevantes de la variable alcohol son:')\n",
    "resultadosf(dfwiner.alcohol)"
   ]
  },
  {
   "cell_type": "code",
   "execution_count": 63,
   "metadata": {},
   "outputs": [
    {
     "name": "stdout",
     "output_type": "stream",
     "text": [
      "Los estadísticos más relevantes de la variable calidad son:\n"
     ]
    },
    {
     "data": {
      "text/html": [
       "<div>\n",
       "<style scoped>\n",
       "    .dataframe tbody tr th:only-of-type {\n",
       "        vertical-align: middle;\n",
       "    }\n",
       "\n",
       "    .dataframe tbody tr th {\n",
       "        vertical-align: top;\n",
       "    }\n",
       "\n",
       "    .dataframe thead th {\n",
       "        text-align: right;\n",
       "    }\n",
       "</style>\n",
       "<table border=\"1\" class=\"dataframe\">\n",
       "  <thead>\n",
       "    <tr style=\"text-align: right;\">\n",
       "      <th></th>\n",
       "      <th>Estadisticos</th>\n",
       "      <th>Valores</th>\n",
       "    </tr>\n",
       "  </thead>\n",
       "  <tbody>\n",
       "    <tr>\n",
       "      <th>0</th>\n",
       "      <td>promedio</td>\n",
       "      <td>5.64</td>\n",
       "    </tr>\n",
       "    <tr>\n",
       "      <th>1</th>\n",
       "      <td>mediana</td>\n",
       "      <td>6</td>\n",
       "    </tr>\n",
       "    <tr>\n",
       "      <th>2</th>\n",
       "      <td>moda</td>\n",
       "      <td>[5]</td>\n",
       "    </tr>\n",
       "    <tr>\n",
       "      <th>3</th>\n",
       "      <td>varianza</td>\n",
       "      <td>0.65</td>\n",
       "    </tr>\n",
       "    <tr>\n",
       "      <th>4</th>\n",
       "      <td>desviacion</td>\n",
       "      <td>0.81</td>\n",
       "    </tr>\n",
       "  </tbody>\n",
       "</table>\n",
       "</div>"
      ],
      "text/plain": [
       "  Estadisticos Valores\n",
       "0     promedio    5.64\n",
       "1      mediana       6\n",
       "2         moda     [5]\n",
       "3     varianza    0.65\n",
       "4   desviacion    0.81"
      ]
     },
     "execution_count": 63,
     "metadata": {},
     "output_type": "execute_result"
    }
   ],
   "source": [
    "print('Los estadísticos más relevantes de la variable calidad son:')\n",
    "resultadosf(dfwiner.quality)"
   ]
  },
  {
   "attachments": {},
   "cell_type": "markdown",
   "metadata": {},
   "source": [
    "Pruebas de Normalidad: Con el objetivo de verificar si las variables de interés representan un conjunto de datos paramétricos o no"
   ]
  },
  {
   "cell_type": "code",
   "execution_count": 58,
   "metadata": {},
   "outputs": [
    {
     "name": "stdout",
     "output_type": "stream",
     "text": [
      "La distribución de la variable fixed acidity  no parece normal\n",
      "La distribución de la variable volatile acidity  no parece normal\n",
      "La distribución de la variable citric acid  no parece normal\n",
      "La distribución de la variable residual sugar  no parece normal\n",
      "La distribución de la variable chlorides  no parece normal\n",
      "La distribución de la variable free sulfur dioxide  no parece normal\n",
      "La distribución de la variable total sulfur dioxide  no parece normal\n",
      "La distribución de la variable density  no parece normal\n",
      "La distribución de la variable pH  no parece normal\n",
      "La distribución de la variable sulphates  no parece normal\n",
      "La distribución de la variable alcohol  no parece normal\n"
     ]
    }
   ],
   "source": [
    "from scipy.stats import shapiro\n",
    "\n",
    "#dfwiner.iloc[:,0]\n",
    "nvariables = len(dfwiner.columns)\n",
    "names = list(dfwiner.columns)\n",
    "\n",
    "for x in range( 0,(nvariables-1) ):\n",
    "    stat, p = shapiro(dfwiner.iloc[:,x])\n",
    "    alpha = 0.05\n",
    "    if p < alpha:\n",
    "        print(f'La distribución de la variable', str(names[x]),' no parece normal')\n",
    "    else:\n",
    "        print(f'La distribución de la variable', str(names[x]),' parece normal')\n"
   ]
  }
 ],
 "metadata": {
  "kernelspec": {
   "display_name": "Python 3",
   "language": "python",
   "name": "python3"
  },
  "language_info": {
   "codemirror_mode": {
    "name": "ipython",
    "version": 3
   },
   "file_extension": ".py",
   "mimetype": "text/x-python",
   "name": "python",
   "nbconvert_exporter": "python",
   "pygments_lexer": "ipython3",
   "version": "3.10.9"
  },
  "orig_nbformat": 4,
  "vscode": {
   "interpreter": {
    "hash": "96748773c7e69786d6b782d7f74ae71633dcb1c0b499cdd27921b016107794e2"
   }
  }
 },
 "nbformat": 4,
 "nbformat_minor": 2
}
